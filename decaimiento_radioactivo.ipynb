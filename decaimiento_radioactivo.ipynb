{
 "cells": [
  {
   "cell_type": "markdown",
   "metadata": {},
   "source": [
    "# Determinación de fechas por Carbono 14"
   ]
  },
  {
   "cell_type": "code",
   "execution_count": 2,
   "metadata": {},
   "outputs": [],
   "source": [
    "from sympy.interactive import printing\n",
    "printing.init_printing(use_latex=True)\n",
    "from sympy import *\n",
    "import numpy as np\n",
    "import sympy as sp\n",
    "import math"
   ]
  },
  {
   "cell_type": "markdown",
   "metadata": {},
   "source": [
    "Un instrumento importante en la investigación arqueológica es la determinación de fechas por radiocarbono, que es un medio para determinar la antigüedad de ciertos restos de madera y plantas y, por tanto, de huesos humanos o de animales o artefactos encontrados a la misma profundidad. El procedimiento fue desarrollado por el químico estadounidense Willard Libby (1908-1980) a principios de la década de 1950, por lo que fue galardonado con el Premio Nobel de Química en 1960. La determinación de fechas por radiocarbono se basa en el hecho de que algunos restos de madera o plantas, siguen conteniendo cantidades residuales de carbono 14,un isótopo radiactivo del carbono. Este isótopo se acumula durante la vida de la planta y comienza a decaer a la muerte de ésta. Como lavida media del carbono14 es larga (aproximadamente de 5 568 años), despuésde muchos miles de años permanecen cantidades mensurables de carbono 14. Libby demostró quesi incluso está presente una diminuta fracción de la cantidad original de carbono 14, entonces por medio de mediciones adecuadas de laboratorio puede determinarse con exactitud la proporción de la cantidad original de carbono14 que resta. En otras palabras,si $Q(t)$ es la cantidad de carbono 14en el instante $t$ y $Q$, es la cantidad original, entoncespuede determinarse la razón $Q(t)/Q$, por lo menos si esta cantidad no es demasiado pequeña. Las técnicas de medición actuales permiten ia aplicacicin de este método para periodos de hasta alrededor de 100 O00 años, después delos cuales la cantidad de carbono 14 restante es de más o menos $4 \\times 10^{-6}$ de la cantidad original."
   ]
  },
  {
   "cell_type": "code",
   "execution_count": 3,
   "metadata": {},
   "outputs": [
    {
     "data": {
      "image/png": "[encoded data removed]",
      "text/latex": [
       "$\\displaystyle f{\\left(r \\right)}$"
      ],
      "text/plain": [
       "f(r)"
      ]
     },
     "execution_count": 3,
     "metadata": {},
     "output_type": "execute_result"
    }
   ],
   "source": [
    "###Identificamos nuestras variables\n",
    "r = symbols('r')\n",
    "f = symbols('f', cls=Function)\n",
    "f(r)"
   ]
  },
  {
   "cell_type": "code",
   "execution_count": 4,
   "metadata": {},
   "outputs": [
    {
     "data": {
      "image/png": "[encoded data removed]",
      "text/latex": [
       "$\\displaystyle Q{\\left(t \\right)}$"
      ],
      "text/plain": [
       "Q(t)"
      ]
     },
     "execution_count": 4,
     "metadata": {},
     "output_type": "execute_result"
    }
   ],
   "source": [
    "t = symbols('t', real=True)\n",
    "Q = symbols('Q', cls=Function)\n",
    "Q(t)"
   ]
  },
  {
   "cell_type": "code",
   "execution_count": 5,
   "metadata": {},
   "outputs": [
    {
     "data": {
      "image/png": "[encoded data removed]",
      "text/latex": [
       "$\\displaystyle \\frac{d}{d t} Q{\\left(t \\right)}$"
      ],
      "text/plain": [
       "d       \n",
       "──(Q(t))\n",
       "dt      "
      ]
     },
     "execution_count": 5,
     "metadata": {},
     "output_type": "execute_result"
    }
   ],
   "source": [
    "Q(t).diff(t)"
   ]
  },
  {
   "cell_type": "markdown",
   "metadata": {},
   "source": [
    "a) Si supone que $Q$ satisface la ecuación diferencial $Q' = -rQ$, determinar la constante de decaimiento $r$ para el carbono 14."
   ]
  },
  {
   "cell_type": "markdown",
   "metadata": {},
   "source": [
    "Tenemos que: $Q/dt = -rQ(t) \\rightarrow Q/Q(t) = -rdt $. Sacamos logaritmo natural en ambos lados de la ecuación y obtenemos: $ln(Q(t))=-rt$."
   ]
  },
  {
   "cell_type": "code",
   "execution_count": 6,
   "metadata": {},
   "outputs": [
    {
     "data": {
      "image/png": "[encoded data removed]",
      "text/latex": [
       "$\\displaystyle -12.4292161968444 = - 100000 r$"
      ],
      "text/plain": [
       "-12.4292161968444 = -100000⋅r"
      ]
     },
     "execution_count": 6,
     "metadata": {},
     "output_type": "execute_result"
    }
   ],
   "source": [
    "eq1 = Eq( ln(4*10**-6), -r*100000)\n",
    "eq1"
   ]
  },
  {
   "cell_type": "code",
   "execution_count": 7,
   "metadata": {},
   "outputs": [
    {
     "data": {
      "image/png": "[encoded data removed]",
      "text/latex": [
       "$\\displaystyle \\left[ 0.000124292161968444\\right]$"
      ],
      "text/plain": [
       "[0.000124292161968444]"
      ]
     },
     "execution_count": 7,
     "metadata": {},
     "output_type": "execute_result"
    }
   ],
   "source": [
    "solve(eq1,[r])"
   ]
  },
  {
   "cell_type": "markdown",
   "metadata": {},
   "source": [
    "$r= 0.0001242$"
   ]
  },
  {
   "cell_type": "markdown",
   "metadata": {},
   "source": [
    "b) Halle una expresión para $Q(t)$ en cualquier instante $t$, si $Q(0)= Q_0$."
   ]
  },
  {
   "cell_type": "code",
   "execution_count": 8,
   "metadata": {},
   "outputs": [
    {
     "data": {
      "image/png": "[encoded data removed]",
      "text/latex": [
       "$\\displaystyle \\frac{d}{d t} Q{\\left(t \\right)} = - 0.0001242 Q{\\left(t \\right)}$"
      ],
      "text/plain": [
       "d                         \n",
       "──(Q(t)) = -0.0001242⋅Q(t)\n",
       "dt                        "
      ]
     },
     "execution_count": 8,
     "metadata": {},
     "output_type": "execute_result"
    }
   ],
   "source": [
    "eq_dif= Eq(Q(t).diff(t), -(0.0001242)*Q(t))\n",
    "eq_dif"
   ]
  },
  {
   "cell_type": "code",
   "execution_count": 9,
   "metadata": {},
   "outputs": [
    {
     "data": {
      "image/png": "[encoded data removed]",
      "text/latex": [
       "$\\displaystyle Q{\\left(t \\right)} = C_{1} e^{- 0.0001242 t}$"
      ],
      "text/plain": [
       "           -0.0001242⋅t\n",
       "Q(t) = C₁⋅ℯ            "
      ]
     },
     "execution_count": 9,
     "metadata": {},
     "output_type": "execute_result"
    }
   ],
   "source": [
    "dsolve(eq_dif,Q(t))"
   ]
  },
  {
   "cell_type": "markdown",
   "metadata": {},
   "source": [
    "c) Suponga que se descubren ciertos restos en los que la cantidad residual presente de carbono 14 es el 20% de la cantidad original. Determine la antigüedad de estos restos."
   ]
  },
  {
   "cell_type": "code",
   "execution_count": 10,
   "metadata": {},
   "outputs": [
    {
     "data": {
      "image/png": "[encoded data removed]",
      "text/latex": [
       "$\\displaystyle 0.2 = e^{- 0.0001242 t}$"
      ],
      "text/plain": [
       "       -0.0001242⋅t\n",
       "0.2 = ℯ            "
      ]
     },
     "execution_count": 10,
     "metadata": {},
     "output_type": "execute_result"
    }
   ],
   "source": [
    "eq2 = Eq(0.2, exp(-0.0001242*t))\n",
    "eq2"
   ]
  },
  {
   "cell_type": "code",
   "execution_count": 11,
   "metadata": {},
   "outputs": [
    {
     "data": {
      "image/png": "[encoded data removed]",
      "text/latex": [
       "$\\displaystyle \\left[ 12958.4372981812\\right]$"
      ],
      "text/plain": [
       "[12958.4372981812]"
      ]
     },
     "execution_count": 11,
     "metadata": {},
     "output_type": "execute_result"
    }
   ],
   "source": [
    "solve(eq2,t)"
   ]
  },
  {
   "cell_type": "markdown",
   "metadata": {},
   "source": [
    "Así, los restos tienen 12958.43 años aproximadamente."
   ]
  },
  {
   "cell_type": "code",
   "execution_count": 20,
   "metadata": {},
   "outputs": [
    {
     "name": "stdout",
     "output_type": "stream",
     "text": [
      "[NbConvertApp] Converting notebook decaimiento_radioactivo.ipynb to PDFviaHTML\n",
      "[NbConvertApp] Writing 169332 bytes to decaimiento_radioactivo.pdf\n"
     ]
    }
   ],
   "source": [
    "!jupyter-nbconvert --to PDFviaHTML decaimiento_radioactivo.ipynb"
   ]
  },
  {
   "cell_type": "code",
   "execution_count": null,
   "metadata": {},
   "outputs": [],
   "source": []
  }
 ],
 "metadata": {
  "kernelspec": {
   "display_name": "Python 3",
   "language": "python",
   "name": "python3"
  },
  "language_info": {
   "codemirror_mode": {
    "name": "ipython",
    "version": 3
   },
   "file_extension": ".py",
   "mimetype": "text/x-python",
   "name": "python",
   "nbconvert_exporter": "python",
   "pygments_lexer": "ipython3",
   "version": "3.8.3"
  }
 },
 "nbformat": 4,
 "nbformat_minor": 4
}
