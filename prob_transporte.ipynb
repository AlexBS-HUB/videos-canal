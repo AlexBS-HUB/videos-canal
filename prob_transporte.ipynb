{
 "cells": [
  {
   "cell_type": "markdown",
   "metadata": {},
   "source": [
    "# Problema del Transporte en Python"
   ]
  },
  {
   "cell_type": "markdown",
   "metadata": {},
   "source": [
    "Instala PuLp con pip"
   ]
  },
  {
   "cell_type": "code",
   "execution_count": 2,
   "metadata": {
    "scrolled": true
   },
   "outputs": [
    {
     "name": "stdout",
     "output_type": "stream",
     "text": [
      "Collecting pulp\n",
      "  Downloading PuLP-2.3-py3-none-any.whl (40.6 MB)\n",
      "\u001b[K     |████████████████████████████████| 40.6 MB 3.6 MB/s eta 0:00:01\n",
      "\u001b[?25hCollecting amply>=0.1.2\n",
      "  Downloading amply-0.1.4-py3-none-any.whl (16 kB)\n",
      "Requirement already satisfied: docutils>=0.3 in /Users/victorsanchezflores/opt/anaconda3/lib/python3.8/site-packages (from amply>=0.1.2->pulp) (0.16)\n",
      "Requirement already satisfied: pyparsing in /Users/victorsanchezflores/opt/anaconda3/lib/python3.8/site-packages (from amply>=0.1.2->pulp) (2.4.7)\n",
      "Installing collected packages: amply, pulp\n",
      "Successfully installed amply-0.1.4 pulp-2.3\n"
     ]
    }
   ],
   "source": [
    "!pip install pulp"
   ]
  },
  {
   "cell_type": "code",
   "execution_count": 3,
   "metadata": {},
   "outputs": [],
   "source": [
    "### Bibliotecas \n",
    "import pandas as np\n",
    "from pulp import *\n",
    "from pandas import DataFrame"
   ]
  },
  {
   "cell_type": "markdown",
   "metadata": {},
   "source": [
    "Datos del Problema"
   ]
  },
  {
   "cell_type": "code",
   "execution_count": 4,
   "metadata": {},
   "outputs": [],
   "source": [
    "### Ciudades\n",
    "origen = ['LA','Detroit','New Orleans']\n",
    "destino = ['Denver','Miami']"
   ]
  },
  {
   "cell_type": "code",
   "execution_count": 5,
   "metadata": {},
   "outputs": [],
   "source": [
    "oferta = {'LA': 1000, 'Detroit' : 1500, 'New Orleans': 1200}\n",
    "demanda = {'Denver': 2300, 'Miami' : 1400}"
   ]
  },
  {
   "cell_type": "code",
   "execution_count": 6,
   "metadata": {},
   "outputs": [],
   "source": [
    "costo_envio ={'LA':{'Denver': 80, 'Miami' : 215},\n",
    "             'Detroit':{'Denver': 100, 'Miami' : 108},\n",
    "             'New Orleans': {'Denver': 102, 'Miami' : 68}}"
   ]
  },
  {
   "cell_type": "markdown",
   "metadata": {},
   "source": [
    "Resolvemos el problema"
   ]
  },
  {
   "cell_type": "code",
   "execution_count": 7,
   "metadata": {},
   "outputs": [],
   "source": [
    "### Declaramos la función objetivo... nota que buscamos minimizar el costo(LpMinimize)\n",
    "prob = LpProblem('Transporte', LpMinimize)"
   ]
  },
  {
   "cell_type": "code",
   "execution_count": 8,
   "metadata": {},
   "outputs": [],
   "source": [
    "rutas = [(i,j) for i in origen for j in destino]"
   ]
  },
  {
   "cell_type": "code",
   "execution_count": 9,
   "metadata": {},
   "outputs": [],
   "source": [
    "cantidad = LpVariable.dicts('Cantidad de Envio',(origen,destino),0)"
   ]
  },
  {
   "cell_type": "code",
   "execution_count": 10,
   "metadata": {},
   "outputs": [],
   "source": [
    "prob += lpSum(cantidad[i][j]*costo_envio[i][j] for (i,j) in rutas)"
   ]
  },
  {
   "cell_type": "code",
   "execution_count": 11,
   "metadata": {},
   "outputs": [],
   "source": [
    "for j in destino:\n",
    "    prob += lpSum(cantidad[i][j] for i in origen) == demanda[j]"
   ]
  },
  {
   "cell_type": "code",
   "execution_count": 12,
   "metadata": {},
   "outputs": [],
   "source": [
    "for i in origen:\n",
    "    prob += lpSum(cantidad[i][j] for j in destino) <= oferta[i]"
   ]
  },
  {
   "cell_type": "code",
   "execution_count": 13,
   "metadata": {},
   "outputs": [
    {
     "name": "stdout",
     "output_type": "stream",
     "text": [
      "Status: Optimal\n"
     ]
    }
   ],
   "source": [
    "### Resolvemos e imprimimos el Status, si es Optimo, el problema tiene solución.\n",
    "prob.solve()\n",
    "print(\"Status:\", LpStatus[prob.status])"
   ]
  },
  {
   "cell_type": "code",
   "execution_count": 14,
   "metadata": {},
   "outputs": [
    {
     "name": "stdout",
     "output_type": "stream",
     "text": [
      "Cantidad_de_Envio_Detroit_Denver = 1300.0\n",
      "Cantidad_de_Envio_Detroit_Miami = 200.0\n",
      "Cantidad_de_Envio_LA_Denver = 1000.0\n",
      "Cantidad_de_Envio_New_Orleans_Miami = 1200.0\n",
      "El costo mínimo es: 313200.0\n"
     ]
    }
   ],
   "source": [
    "### Imprimimos la solución\n",
    "for v in prob.variables():\n",
    "    if v.varValue > 0:\n",
    "        print(v.name, \"=\", v.varValue)\n",
    "print('El costo mínimo es:', value(prob.objective))"
   ]
  }
 ],
 "metadata": {
  "kernelspec": {
   "display_name": "Python 3",
   "language": "python",
   "name": "python3"
  },
  "language_info": {
   "codemirror_mode": {
    "name": "ipython",
    "version": 3
   },
   "file_extension": ".py",
   "mimetype": "text/x-python",
   "name": "python",
   "nbconvert_exporter": "python",
   "pygments_lexer": "ipython3",
   "version": "3.8.3"
  }
 },
 "nbformat": 4,
 "nbformat_minor": 4
}
